{
  "nbformat": 4,
  "nbformat_minor": 0,
  "metadata": {
    "colab": {
      "provenance": [],
      "authorship_tag": "ABX9TyNAdNr6ECeyKMSk2tnqo9HC",
      "include_colab_link": true
    },
    "kernelspec": {
      "name": "python3",
      "display_name": "Python 3"
    },
    "language_info": {
      "name": "python"
    }
  },
  "cells": [
    {
      "cell_type": "markdown",
      "metadata": {
        "id": "view-in-github",
        "colab_type": "text"
      },
      "source": [
        "<a href=\"https://colab.research.google.com/github/Rish-23072005/Mockmate/blob/main/Webcam_access_with_video_recording_2.ipynb\" target=\"_parent\"><img src=\"https://colab.research.google.com/assets/colab-badge.svg\" alt=\"Open In Colab\"/></a>"
      ]
    },
    {
      "cell_type": "markdown",
      "source": [
        "Importing libraries"
      ],
      "metadata": {
        "id": "uK1B0Y-f0ihH"
      }
    },
    {
      "cell_type": "code",
      "execution_count": 32,
      "metadata": {
        "id": "rAKnu_1e0WO2"
      },
      "outputs": [],
      "source": [
        "from IPython.display import display, Javascript, Image\n",
        "from google.colab.output import eval_js\n",
        "from base64 import b64decode, b64encode\n",
        "import cv2\n",
        "import numpy as np\n",
        "import PIL\n",
        "import io\n",
        "import html\n",
        "import time\n"
      ]
    },
    {
      "cell_type": "markdown",
      "source": [
        "Helping Function"
      ],
      "metadata": {
        "id": "G5AK4zAx01rq"
      }
    },
    {
      "cell_type": "code",
      "source": [
        "# function to convert the JavaScript object into an OpenCV image\n",
        "def js_to_image(js_reply):\n",
        "  \"\"\"\n",
        "  Params:\n",
        "          js_reply: JavaScript object containing image from webcam\n",
        "  Returns:\n",
        "          img: OpenCV BGR image\n",
        "  \"\"\"\n",
        "  # decode base64 image\n",
        "  image_bytes = b64decode(js_reply.split(',')[1])\n",
        "  # convert bytes to numpy array\n",
        "  jpg_as_np = np.frombuffer(image_bytes, dtype=np.uint8)\n",
        "  # decode numpy array into OpenCV BGR image\n",
        "  img = cv2.imdecode(jpg_as_np, flags=1)\n",
        "\n",
        "  return img\n",
        "\n",
        "# function to convert OpenCV Rectangle bounding box image into base64 byte string to be overlayed on video stream\n",
        "def bbox_to_bytes(bbox_array):\n",
        "  \"\"\"\n",
        "  Params:\n",
        "          bbox_array: Numpy array (pixels) containing rectangle to overlay on video stream.\n",
        "  Returns:\n",
        "        bytes: Base64 image byte string\n",
        "  \"\"\"\n",
        "  # convert array into PIL image\n",
        "  bbox_PIL = PIL.Image.fromarray(bbox_array, 'RGBA')\n",
        "  iobuf = io.BytesIO()\n",
        "  # format bbox into png for return\n",
        "  bbox_PIL.save(iobuf, format='png')\n",
        "  # format return string\n",
        "  bbox_bytes = 'data:image/png;base64,{}'.format((str(b64encode(iobuf.getvalue()), 'utf-8')))\n",
        "\n",
        "  return bbox_bytes"
      ],
      "metadata": {
        "id": "gLT_YV5O0tp-"
      },
      "execution_count": 33,
      "outputs": []
    },
    {
      "cell_type": "markdown",
      "source": [
        "Haar Cascade Classifier\n",
        "For this tutorial we will run a simple object detection algorithm called Haar Cascade on our images and video fetched from our webcam. OpenCV has a pre-trained Haar Cascade face detection model."
      ],
      "metadata": {
        "id": "9QD6Wwj-1CNG"
      }
    },
    {
      "cell_type": "code",
      "source": [
        "# initialize the Haar Cascade face detection model\n",
        "face_cascade = cv2.CascadeClassifier(cv2.samples.findFile(cv2.data.haarcascades + 'haarcascade_frontalface_default.xml'))"
      ],
      "metadata": {
        "id": "euFdmzvw07hW"
      },
      "execution_count": 34,
      "outputs": []
    },
    {
      "cell_type": "markdown",
      "source": [
        "Webcam Images"
      ],
      "metadata": {
        "id": "xYeL9xWL1IRU"
      }
    },
    {
      "cell_type": "code",
      "source": [
        "def take_photo(filename='photo.jpg', quality=0.8):\n",
        "  js = Javascript('''\n",
        "    async function takePhoto(quality) {\n",
        "      const div = document.createElement('div');\n",
        "      const capture = document.createElement('button');\n",
        "      capture.textContent = 'Capture';\n",
        "      div.appendChild(capture);\n",
        "\n",
        "      const video = document.createElement('video');\n",
        "      video.style.display = 'block';\n",
        "      const stream = await navigator.mediaDevices.getUserMedia({video: true});\n",
        "\n",
        "      document.body.appendChild(div);\n",
        "      div.appendChild(video);\n",
        "      video.srcObject = stream;\n",
        "      await video.play();\n",
        "\n",
        "      // Resize the output to fit the video element.\n",
        "      google.colab.output.setIframeHeight(document.documentElement.scrollHeight, true);\n",
        "\n",
        "      // Wait for Capture to be clicked.\n",
        "      await new Promise((resolve) => capture.onclick = resolve);\n",
        "\n",
        "      const canvas = document.createElement('canvas');\n",
        "      canvas.width = video.videoWidth;\n",
        "      canvas.height = video.videoHeight;\n",
        "      canvas.getContext('2d').drawImage(video, 0, 0);\n",
        "      stream.getVideoTracks()[0].stop();\n",
        "      div.remove();\n",
        "      return canvas.toDataURL('image/jpeg', quality);\n",
        "    }\n",
        "    ''')\n",
        "  display(js)\n",
        "\n",
        "  # get photo data\n",
        "  data = eval_js('takePhoto({})'.format(quality))\n",
        "  # get OpenCV format image\n",
        "  img = js_to_image(data)\n",
        "  # grayscale img\n",
        "  gray = cv2.cvtColor(img, cv2.COLOR_RGB2GRAY)\n",
        "  print(gray.shape)\n",
        "  # get face bounding box coordinates using Haar Cascade\n",
        "  faces = face_cascade.detectMultiScale(gray)\n",
        "  # draw face bounding box on image\n",
        "  for (x,y,w,h) in faces:\n",
        "      img = cv2.rectangle(img,(x,y),(x+w,y+h),(255,0,0),2)\n",
        "  # save image\n",
        "  cv2.imwrite(filename, img)\n",
        "\n",
        "  return filename"
      ],
      "metadata": {
        "id": "5NhwD1941GAW"
      },
      "execution_count": 35,
      "outputs": []
    },
    {
      "cell_type": "code",
      "source": [
        "try:\n",
        "  filename = take_photo('photo.jpg')\n",
        "  print('Saved to {}'.format(filename))\n",
        "\n",
        "  # Show the image which was just taken.\n",
        "  display(Image(filename))\n",
        "except Exception as err:\n",
        "  # Errors will be thrown if the user does not have a webcam or if they do not\n",
        "  # grant the page permission to access it.\n",
        "  print(str(err))"
      ],
      "metadata": {
        "colab": {
          "base_uri": "https://localhost:8080/",
          "height": 533
        },
        "id": "AZC2ReeD1O6G",
        "outputId": "006d545e-d43b-419c-d927-6c2f6bf5aed6"
      },
      "execution_count": 36,
      "outputs": [
        {
          "output_type": "display_data",
          "data": {
            "text/plain": [
              "<IPython.core.display.Javascript object>"
            ],
            "application/javascript": [
              "\n",
              "    async function takePhoto(quality) {\n",
              "      const div = document.createElement('div');\n",
              "      const capture = document.createElement('button');\n",
              "      capture.textContent = 'Capture';\n",
              "      div.appendChild(capture);\n",
              "\n",
              "      const video = document.createElement('video');\n",
              "      video.style.display = 'block';\n",
              "      const stream = await navigator.mediaDevices.getUserMedia({video: true});\n",
              "\n",
              "      document.body.appendChild(div);\n",
              "      div.appendChild(video);\n",
              "      video.srcObject = stream;\n",
              "      await video.play();\n",
              "\n",
              "      // Resize the output to fit the video element.\n",
              "      google.colab.output.setIframeHeight(document.documentElement.scrollHeight, true);\n",
              "\n",
              "      // Wait for Capture to be clicked.\n",
              "      await new Promise((resolve) => capture.onclick = resolve);\n",
              "\n",
              "      const canvas = document.createElement('canvas');\n",
              "      canvas.width = video.videoWidth;\n",
              "      canvas.height = video.videoHeight;\n",
              "      canvas.getContext('2d').drawImage(video, 0, 0);\n",
              "      stream.getVideoTracks()[0].stop();\n",
              "      div.remove();\n",
              "      return canvas.toDataURL('image/jpeg', quality);\n",
              "    }\n",
              "    "
            ]
          },
          "metadata": {}
        },
        {
          "output_type": "stream",
          "name": "stdout",
          "text": [
            "(480, 640)\n",
            "Saved to photo.jpg\n"
          ]
        },
        {
          "output_type": "display_data",
          "data": {
            "image/jpeg": "[encoded data removed]",
            "text/plain": [
              "<IPython.core.display.Image object>"
            ]
          },
          "metadata": {}
        }
      ]
    },
    {
      "cell_type": "markdown",
      "source": [
        "Webcam Videos\n",
        "Running code on webcam video is a little more complex than images. We need to start a video stream using our webcam as input. Then we run each frame through our progam (face detection) and create an overlay image that contains bounding box of detection(s). We then overlay the bounding box image back onto the next frame of our video stream."
      ],
      "metadata": {
        "id": "E8azqetF1db3"
      }
    },
    {
      "cell_type": "code",
      "source": [
        "def video_stream():\n",
        "    js = Javascript('''\n",
        "    var video;\n",
        "    var div = null;\n",
        "    var stream;\n",
        "    var audioStream;\n",
        "    var audioContext;\n",
        "    var analyser;\n",
        "    var microphone;\n",
        "    var captureCanvas;\n",
        "    var imgElement;\n",
        "    var labelElement;\n",
        "    var emotionLabel;\n",
        "    var mediaRecorder;\n",
        "    var recordedChunks = [];\n",
        "    var audioBlob;\n",
        "\n",
        "    var pendingResolve = null;\n",
        "    var shutdown = false;\n",
        "\n",
        "    function removeDom() {\n",
        "        stream.getVideoTracks()[0].stop();\n",
        "        audioStream.getAudioTracks()[0].stop();\n",
        "        video.remove();\n",
        "        div.remove();\n",
        "        video = null;\n",
        "        div = null;\n",
        "        stream = null;\n",
        "        audioStream = null;\n",
        "        imgElement = null;\n",
        "        captureCanvas = null;\n",
        "        labelElement = null;\n",
        "        emotionLabel = null;\n",
        "        mediaRecorder.stop();\n",
        "        audioBlob = new Blob(recordedChunks, { type: 'audio/wav' });\n",
        "        var url = URL.createObjectURL(audioBlob);\n",
        "        var a = document.createElement('a');\n",
        "        a.style.display = 'none';\n",
        "        a.href = url;\n",
        "        a.download = 'output_audio.wav';\n",
        "        document.body.appendChild(a);\n",
        "        a.click();\n",
        "        window.URL.revokeObjectURL(url);\n",
        "    }\n",
        "\n",
        "    function onAnimationFrame() {\n",
        "        if (!shutdown) {\n",
        "            window.requestAnimationFrame(onAnimationFrame);\n",
        "        }\n",
        "        if (pendingResolve) {\n",
        "            var result = \"\";\n",
        "            if (!shutdown) {\n",
        "                captureCanvas.getContext('2d').drawImage(video, 0, 0, 640, 480);\n",
        "                result = captureCanvas.toDataURL('image/jpeg', 0.8);\n",
        "            }\n",
        "            var lp = pendingResolve;\n",
        "            pendingResolve = null;\n",
        "            lp(result);\n",
        "        }\n",
        "    }\n",
        "\n",
        "    async function createDom() {\n",
        "        if (div !== null) {\n",
        "            return stream;\n",
        "        }\n",
        "\n",
        "        div = document.createElement('div');\n",
        "        div.style.border = '2px solid black';\n",
        "        div.style.padding = '3px';\n",
        "        div.style.width = '100%';\n",
        "        div.style.maxWidth = '600px';\n",
        "        document.body.appendChild(div);\n",
        "\n",
        "        const modelOut = document.createElement('div');\n",
        "        modelOut.innerHTML = \"<span>Status:</span>\";\n",
        "        labelElement = document.createElement('span');\n",
        "        labelElement.innerText = 'No data';\n",
        "        labelElement.style.fontWeight = 'bold';\n",
        "        modelOut.appendChild(labelElement);\n",
        "        div.appendChild(modelOut);\n",
        "\n",
        "        emotionLabel = document.createElement('div');\n",
        "        emotionLabel.innerHTML = \"<span>Emotion:</span>\";\n",
        "        emotionLabel.style.fontWeight = 'bold';\n",
        "        div.appendChild(emotionLabel);\n",
        "\n",
        "        video = document.createElement('video');\n",
        "        video.style.display = 'block';\n",
        "        video.width = div.clientWidth - 6;\n",
        "        video.setAttribute('playsinline', '');\n",
        "        video.onclick = () => { shutdown = true; };\n",
        "        stream = await navigator.mediaDevices.getUserMedia({ video: { facingMode: \"environment\" } });\n",
        "        audioStream = await navigator.mediaDevices.getUserMedia({ audio: true });\n",
        "        div.appendChild(video);\n",
        "\n",
        "        imgElement = document.createElement('img');\n",
        "        imgElement.style.position = 'absolute';\n",
        "        imgElement.style.zIndex = 1;\n",
        "        imgElement.onclick = () => { shutdown = true; };\n",
        "        div.appendChild(imgElement);\n",
        "\n",
        "        const instruction = document.createElement('div');\n",
        "        instruction.innerHTML =\n",
        "            '<span style=\"color: red; font-weight: bold;\">' +\n",
        "            'When finished, click here or on the video to stop this demo</span>';\n",
        "        div.appendChild(instruction);\n",
        "        instruction.onclick = () => { shutdown = true; };\n",
        "\n",
        "        video.srcObject = stream;\n",
        "        await video.play();\n",
        "\n",
        "        captureCanvas = document.createElement('canvas');\n",
        "        captureCanvas.width = 640;\n",
        "        captureCanvas.height = 480;\n",
        "        window.requestAnimationFrame(onAnimationFrame);\n",
        "\n",
        "        audioContext = new (window.AudioContext || window.webkitAudioContext)();\n",
        "        analyser = audioContext.createAnalyser();\n",
        "        microphone = audioContext.createMediaStreamSource(audioStream);\n",
        "        microphone.connect(analyser);\n",
        "\n",
        "        mediaRecorder = new MediaRecorder(audioStream, { mimeType: 'audio/wav' });\n",
        "        mediaRecorder.ondataavailable = function(event) {\n",
        "            if (event.data.size > 0) {\n",
        "                recordedChunks.push(event.data);\n",
        "            }\n",
        "        };\n",
        "        mediaRecorder.start();\n",
        "\n",
        "        return stream;\n",
        "    }\n",
        "\n",
        "    async function stream_frame(label, imgData) {\n",
        "        if (shutdown) {\n",
        "            removeDom();\n",
        "            shutdown = false;\n",
        "            return '';\n",
        "        }\n",
        "\n",
        "        var preCreate = Date.now();\n",
        "        stream = await createDom();\n",
        "\n",
        "        var preShow = Date.now();\n",
        "        if (label != \"\") {\n",
        "            labelElement.innerHTML = label;\n",
        "        }\n",
        "\n",
        "        if (imgData != \"\") {\n",
        "            var videoRect = video.getClientRects()[0];\n",
        "            imgElement.style.top = videoRect.top + \"px\";\n",
        "            imgElement.style.left = videoRect.left + \"px\";\n",
        "            imgElement.style.width = videoRect.width + \"px\";\n",
        "            imgElement.style.height = videoRect.height + \"px\";\n",
        "            imgElement.src = imgData;\n",
        "        }\n",
        "\n",
        "        var preCapture = Date.now();\n",
        "        var result = await new Promise(function(resolve, reject) {\n",
        "            pendingResolve = resolve;\n",
        "        });\n",
        "        shutdown = false;\n",
        "\n",
        "        // Capture audio data for emotion recognition\n",
        "        var audioData = new Float32Array(analyser.frequencyBinCount);\n",
        "        analyser.getFloatFrequencyData(audioData);\n",
        "        var emotion = await recognizeEmotion(audioData);\n",
        "        emotionLabel.innerText = 'Emotion: ' + emotion;\n",
        "\n",
        "        return {'create': preShow - preCreate,\n",
        "                'show': preCapture - preShow,\n",
        "                'capture': Date.now() - preCapture,\n",
        "                'img': result};\n",
        "    }\n",
        "    ''')\n",
        "\n",
        "    display(js)\n"
      ],
      "metadata": {
        "id": "hUqoJVqC1SXL"
      },
      "execution_count": 37,
      "outputs": []
    },
    {
      "cell_type": "code",
      "source": [
        "!pip install sounddevice soundfile"
      ],
      "metadata": {
        "colab": {
          "base_uri": "https://localhost:8080/"
        },
        "id": "aHCAX4pc-T8I",
        "outputId": "f430402f-4f37-4d42-97a3-e2387ffe416b"
      },
      "execution_count": 38,
      "outputs": [
        {
          "output_type": "stream",
          "name": "stdout",
          "text": [
            "Requirement already satisfied: sounddevice in /usr/local/lib/python3.10/dist-packages (0.4.7)\n",
            "Requirement already satisfied: soundfile in /usr/local/lib/python3.10/dist-packages (0.12.1)\n",
            "Requirement already satisfied: CFFI>=1.0 in /usr/local/lib/python3.10/dist-packages (from sounddevice) (1.16.0)\n",
            "Requirement already satisfied: pycparser in /usr/local/lib/python3.10/dist-packages (from CFFI>=1.0->sounddevice) (2.22)\n"
          ]
        }
      ]
    },
    {
      "cell_type": "code",
      "source": [
        "!apt-get install -y portaudio19-dev\n",
        "!pip install sounddevice"
      ],
      "metadata": {
        "colab": {
          "base_uri": "https://localhost:8080/"
        },
        "id": "BMovXASJ-khj",
        "outputId": "cdc49881-e1bc-4695-9470-8e60e52af6fb"
      },
      "execution_count": 39,
      "outputs": [
        {
          "output_type": "stream",
          "name": "stdout",
          "text": [
            "Reading package lists... Done\n",
            "Building dependency tree... Done\n",
            "Reading state information... Done\n",
            "portaudio19-dev is already the newest version (19.6.0-1.1).\n",
            "0 upgraded, 0 newly installed, 0 to remove and 45 not upgraded.\n",
            "Requirement already satisfied: sounddevice in /usr/local/lib/python3.10/dist-packages (0.4.7)\n",
            "Requirement already satisfied: CFFI>=1.0 in /usr/local/lib/python3.10/dist-packages (from sounddevice) (1.16.0)\n",
            "Requirement already satisfied: pycparser in /usr/local/lib/python3.10/dist-packages (from CFFI>=1.0->sounddevice) (2.22)\n"
          ]
        }
      ]
    },
    {
      "cell_type": "code",
      "source": [
        "!arecord -l\n"
      ],
      "metadata": {
        "colab": {
          "base_uri": "https://localhost:8080/"
        },
        "id": "EzFOnFi2_iJC",
        "outputId": "522bca3d-7e28-4103-db18-63487887bb93"
      },
      "execution_count": 40,
      "outputs": [
        {
          "output_type": "stream",
          "name": "stdout",
          "text": [
            "/bin/bash: line 1: arecord: command not found\n"
          ]
        }
      ]
    },
    {
      "cell_type": "code",
      "source": [
        "!sudo apt-get install libportaudio2\n"
      ],
      "metadata": {
        "colab": {
          "base_uri": "https://localhost:8080/"
        },
        "id": "AskNKGZu_2pe",
        "outputId": "7ac52f59-0cc1-492a-a94b-3351f5cd8879"
      },
      "execution_count": 41,
      "outputs": [
        {
          "output_type": "stream",
          "name": "stdout",
          "text": [
            "Reading package lists... Done\n",
            "Building dependency tree... Done\n",
            "Reading state information... Done\n",
            "libportaudio2 is already the newest version (19.6.0-1.1).\n",
            "0 upgraded, 0 newly installed, 0 to remove and 45 not upgraded.\n"
          ]
        }
      ]
    },
    {
      "cell_type": "code",
      "source": [
        "!npm install @tensorflow/tfjs"
      ],
      "metadata": {
        "colab": {
          "base_uri": "https://localhost:8080/"
        },
        "id": "l4qNZZBXSFKH",
        "outputId": "404810bf-de0c-4ed8-8b2e-752bcc6595cd"
      },
      "execution_count": 42,
      "outputs": [
        {
          "output_type": "stream",
          "name": "stdout",
          "text": [
            "\u001b[K\u001b[?25h\u001b[37;40mnpm\u001b[0m \u001b[0m\u001b[30;43mWARN\u001b[0m \u001b[0m\u001b[35msaveError\u001b[0m ENOENT: no such file or directory, open '/content/package.json'\n",
            "\u001b[0m\u001b[37;40mnpm\u001b[0m \u001b[0m\u001b[30;43mWARN\u001b[0m \u001b[0m\u001b[35menoent\u001b[0m ENOENT: no such file or directory, open '/content/package.json'\n",
            "\u001b[0m\u001b[37;40mnpm\u001b[0m \u001b[0m\u001b[30;43mWARN\u001b[0m\u001b[35m\u001b[0m content No description\n",
            "\u001b[0m\u001b[37;40mnpm\u001b[0m \u001b[0m\u001b[30;43mWARN\u001b[0m\u001b[35m\u001b[0m content No repository field.\n",
            "\u001b[0m\u001b[37;40mnpm\u001b[0m \u001b[0m\u001b[30;43mWARN\u001b[0m\u001b[35m\u001b[0m content No README data\n",
            "\u001b[0m\u001b[37;40mnpm\u001b[0m \u001b[0m\u001b[30;43mWARN\u001b[0m\u001b[35m\u001b[0m content No license field.\n",
            "\u001b[0m\n",
            "+ @tensorflow/tfjs@4.20.0\n",
            "updated 1 package and audited 102 packages in 6.736s\n",
            "\n",
            "5 packages are looking for funding\n",
            "  run `npm fund` for details\n",
            "\n",
            "found \u001b[92m0\u001b[0m vulnerabilities\n",
            "\n",
            "\u001b[K\u001b[?25h\n",
            "\u001b[33m\u001b[39m\n",
            "\u001b[33m   ╭────────────────────────────────────────────────────────────────╮\u001b[39m\n",
            "   \u001b[33m│\u001b[39m                                                                \u001b[33m│\u001b[39m\n",
            "   \u001b[33m│\u001b[39m      New \u001b[31mmajor\u001b[39m version of npm available! \u001b[31m6.14.8\u001b[39m → \u001b[32m10.8.1\u001b[39m       \u001b[33m│\u001b[39m\n",
            "   \u001b[33m│\u001b[39m   \u001b[33mChangelog:\u001b[39m \u001b[36mhttps://github.com/npm/cli/releases/tag/v10.8.1\u001b[39m   \u001b[33m│\u001b[39m\n",
            "   \u001b[33m│\u001b[39m               Run \u001b[32mnpm install -g npm\u001b[39m to update!                \u001b[33m│\u001b[39m\n",
            "   \u001b[33m│\u001b[39m                                                                \u001b[33m│\u001b[39m\n",
            "\u001b[33m   ╰────────────────────────────────────────────────────────────────╯\u001b[39m\n",
            "\u001b[33m\u001b[39m\n"
          ]
        }
      ]
    },
    {
      "cell_type": "code",
      "source": [
        "# # start streaming video from webcam\n",
        "# video_stream()\n",
        "# # label for video\n",
        "# label_html = 'Capturing...'\n",
        "# # initialze bounding box to empty\n",
        "# bbox = ''\n",
        "# count = 0\n",
        "# while True:\n",
        "#     js_reply = video_frame(label_html, bbox)\n",
        "#     if not js_reply:\n",
        "#         break\n",
        "\n",
        "#     # convert JS response to OpenCV Image\n",
        "#     img = js_to_image(js_reply[\"img\"])\n",
        "\n",
        "#     # create transparent overlay for bounding box\n",
        "#     bbox_array = np.zeros([480,640,4], dtype=np.uint8)\n",
        "\n",
        "#     # grayscale image for face detection\n",
        "#     gray = cv2.cvtColor(img, cv2.COLOR_RGB2GRAY)\n",
        "\n",
        "#     # get face region coordinates\n",
        "#     faces = face_cascade.detectMultiScale(gray)\n",
        "#     # get face bounding box for overlay\n",
        "#     for (x,y,w,h) in faces:\n",
        "#       bbox_array = cv2.rectangle(bbox_array,(x,y),(x+w,y+h),(255,0,0),2)\n",
        "\n",
        "#     bbox_array[:,:,3] = (bbox_array.max(axis = 2) > 0 ).astype(int) * 255\n",
        "#     # convert overlay of bbox into bytes\n",
        "#     bbox_bytes = bbox_to_bytes(bbox_array)\n",
        "\n",
        "#     # update bbox so next frame gets new overlay\n",
        "#     bbox = bbox_bytes"
      ],
      "metadata": {
        "id": "yzcLlAAM1h3C"
      },
      "execution_count": 43,
      "outputs": []
    },
    {
      "cell_type": "code",
      "source": [
        "! pip install flask-ngrok"
      ],
      "metadata": {
        "colab": {
          "base_uri": "https://localhost:8080/"
        },
        "id": "TusoWLGY1mQD",
        "outputId": "80f3d51c-ac54-4e0e-e4dd-36426e7e1616"
      },
      "execution_count": 44,
      "outputs": [
        {
          "output_type": "stream",
          "name": "stdout",
          "text": [
            "Requirement already satisfied: flask-ngrok in /usr/local/lib/python3.10/dist-packages (0.0.25)\n",
            "Requirement already satisfied: Flask>=0.8 in /usr/local/lib/python3.10/dist-packages (from flask-ngrok) (2.2.5)\n",
            "Requirement already satisfied: requests in /usr/local/lib/python3.10/dist-packages (from flask-ngrok) (2.31.0)\n",
            "Requirement already satisfied: Werkzeug>=2.2.2 in /usr/local/lib/python3.10/dist-packages (from Flask>=0.8->flask-ngrok) (3.0.3)\n",
            "Requirement already satisfied: Jinja2>=3.0 in /usr/local/lib/python3.10/dist-packages (from Flask>=0.8->flask-ngrok) (3.1.4)\n",
            "Requirement already satisfied: itsdangerous>=2.0 in /usr/local/lib/python3.10/dist-packages (from Flask>=0.8->flask-ngrok) (2.2.0)\n",
            "Requirement already satisfied: click>=8.0 in /usr/local/lib/python3.10/dist-packages (from Flask>=0.8->flask-ngrok) (8.1.7)\n",
            "Requirement already satisfied: charset-normalizer<4,>=2 in /usr/local/lib/python3.10/dist-packages (from requests->flask-ngrok) (3.3.2)\n",
            "Requirement already satisfied: idna<4,>=2.5 in /usr/local/lib/python3.10/dist-packages (from requests->flask-ngrok) (3.7)\n",
            "Requirement already satisfied: urllib3<3,>=1.21.1 in /usr/local/lib/python3.10/dist-packages (from requests->flask-ngrok) (2.0.7)\n",
            "Requirement already satisfied: certifi>=2017.4.17 in /usr/local/lib/python3.10/dist-packages (from requests->flask-ngrok) (2024.6.2)\n",
            "Requirement already satisfied: MarkupSafe>=2.0 in /usr/local/lib/python3.10/dist-packages (from Jinja2>=3.0->Flask>=0.8->flask-ngrok) (2.1.5)\n"
          ]
        }
      ]
    },
    {
      "cell_type": "code",
      "source": [
        "!pip install speechrecognition"
      ],
      "metadata": {
        "colab": {
          "base_uri": "https://localhost:8080/"
        },
        "id": "jYujR2xzjnRy",
        "outputId": "d1347d28-f4e5-4fdf-a86a-e41639acf597"
      },
      "execution_count": 45,
      "outputs": [
        {
          "output_type": "stream",
          "name": "stdout",
          "text": [
            "Requirement already satisfied: speechrecognition in /usr/local/lib/python3.10/dist-packages (3.10.4)\n",
            "Requirement already satisfied: requests>=2.26.0 in /usr/local/lib/python3.10/dist-packages (from speechrecognition) (2.31.0)\n",
            "Requirement already satisfied: typing-extensions in /usr/local/lib/python3.10/dist-packages (from speechrecognition) (4.12.2)\n",
            "Requirement already satisfied: charset-normalizer<4,>=2 in /usr/local/lib/python3.10/dist-packages (from requests>=2.26.0->speechrecognition) (3.3.2)\n",
            "Requirement already satisfied: idna<4,>=2.5 in /usr/local/lib/python3.10/dist-packages (from requests>=2.26.0->speechrecognition) (3.7)\n",
            "Requirement already satisfied: urllib3<3,>=1.21.1 in /usr/local/lib/python3.10/dist-packages (from requests>=2.26.0->speechrecognition) (2.0.7)\n",
            "Requirement already satisfied: certifi>=2017.4.17 in /usr/local/lib/python3.10/dist-packages (from requests>=2.26.0->speechrecognition) (2024.6.2)\n"
          ]
        }
      ]
    },
    {
      "cell_type": "code",
      "source": [
        "%pip install pyaudio"
      ],
      "metadata": {
        "colab": {
          "base_uri": "https://localhost:8080/"
        },
        "id": "7IVg54pwl6Ai",
        "outputId": "02346176-fbf0-4d66-d716-9fe03103f772"
      },
      "execution_count": 46,
      "outputs": [
        {
          "output_type": "stream",
          "name": "stdout",
          "text": [
            "Requirement already satisfied: pyaudio in /usr/local/lib/python3.10/dist-packages (0.2.14)\n"
          ]
        }
      ]
    },
    {
      "cell_type": "code",
      "source": [
        "%pip install pyaudio ffmpeg-python\n"
      ],
      "metadata": {
        "colab": {
          "base_uri": "https://localhost:8080/"
        },
        "id": "mglv_WdRnvIu",
        "outputId": "5633a759-c602-42e8-d51f-3bc69f0648e5"
      },
      "execution_count": 47,
      "outputs": [
        {
          "output_type": "stream",
          "name": "stdout",
          "text": [
            "Requirement already satisfied: pyaudio in /usr/local/lib/python3.10/dist-packages (0.2.14)\n",
            "Requirement already satisfied: ffmpeg-python in /usr/local/lib/python3.10/dist-packages (0.2.0)\n",
            "Requirement already satisfied: future in /usr/local/lib/python3.10/dist-packages (from ffmpeg-python) (0.18.3)\n"
          ]
        }
      ]
    },
    {
      "cell_type": "code",
      "source": [
        "!pip install pyaudio wave speechrecognition"
      ],
      "metadata": {
        "colab": {
          "base_uri": "https://localhost:8080/",
          "height": 461
        },
        "id": "sR3nll5zwiJK",
        "outputId": "6e482693-9e71-4b57-b4d8-5dafc241984e"
      },
      "execution_count": 55,
      "outputs": [
        {
          "output_type": "stream",
          "name": "stdout",
          "text": [
            "Requirement already satisfied: pyaudio in /usr/local/lib/python3.10/dist-packages (0.2.14)\n",
            "Collecting wave\n",
            "  Downloading Wave-0.0.2.zip (38 kB)\n",
            "  Preparing metadata (setup.py) ... \u001b[?25l\u001b[?25hdone\n",
            "Requirement already satisfied: speechrecognition in /usr/local/lib/python3.10/dist-packages (3.10.4)\n",
            "Requirement already satisfied: requests>=2.26.0 in /usr/local/lib/python3.10/dist-packages (from speechrecognition) (2.31.0)\n",
            "Requirement already satisfied: typing-extensions in /usr/local/lib/python3.10/dist-packages (from speechrecognition) (4.12.2)\n",
            "Requirement already satisfied: charset-normalizer<4,>=2 in /usr/local/lib/python3.10/dist-packages (from requests>=2.26.0->speechrecognition) (3.3.2)\n",
            "Requirement already satisfied: idna<4,>=2.5 in /usr/local/lib/python3.10/dist-packages (from requests>=2.26.0->speechrecognition) (3.7)\n",
            "Requirement already satisfied: urllib3<3,>=1.21.1 in /usr/local/lib/python3.10/dist-packages (from requests>=2.26.0->speechrecognition) (2.0.7)\n",
            "Requirement already satisfied: certifi>=2017.4.17 in /usr/local/lib/python3.10/dist-packages (from requests>=2.26.0->speechrecognition) (2024.6.2)\n",
            "Building wheels for collected packages: wave\n",
            "  Building wheel for wave (setup.py) ... \u001b[?25l\u001b[?25hdone\n",
            "  Created wheel for wave: filename=Wave-0.0.2-py3-none-any.whl size=1220 sha256=ca53ea728175412ad28ec9fb741c4980a33aa28f70bb3bd6f51ec2c011c717e1\n",
            "  Stored in directory: /root/.cache/pip/wheels/f8/24/4d/1b01c0e32da3eb3fd71bbbc6093fcc557ec3b2d9e532ecd65d\n",
            "Successfully built wave\n",
            "Installing collected packages: wave\n",
            "Successfully installed wave-0.0.2\n"
          ]
        },
        {
          "output_type": "display_data",
          "data": {
            "application/vnd.colab-display-data+json": {
              "pip_warning": {
                "packages": [
                  "wave"
                ]
              },
              "id": "f4d06724a9ea4da1ad7cf00338df5cb1"
            }
          },
          "metadata": {}
        }
      ]
    },
    {
      "cell_type": "code",
      "source": [
        "import cv2\n",
        "import pyaudio\n",
        "import wave\n",
        "import threading\n",
        "\n",
        "class VideoRecorder:\n",
        "    def __init__(self):\n",
        "        self.open = True\n",
        "        self.device_index = 0\n",
        "        self.fps = 6  # Adjust the desired frame rate\n",
        "        self.fourcc = \"MJPG\"  # Video codec (e.g., MJPG, XVID)\n",
        "        self.frameSize = (640, 480)  # Video resolution (adjust as needed)\n",
        "\n",
        "    def record_video(self):\n",
        "        video_capture = cv2.VideoCapture(self.device_index)\n",
        "        video_writer = cv2.VideoWriter('output_video.avi', cv2.VideoWriter_fourcc(*self.fourcc), self.fps, self.frameSize)\n",
        "\n",
        "        while self.open:\n",
        "            ret, frame = video_capture.read()\n",
        "            if ret:\n",
        "                video_writer.write(frame)\n",
        "\n",
        "        video_capture.release()\n",
        "        video_writer.release()\n",
        "\n",
        "    def record_audio(self):\n",
        "        audio_format = pyaudio.paInt16\n",
        "        channels = 1\n",
        "        rate = 44100\n",
        "        chunk = 1024\n",
        "\n",
        "        p = pyaudio.PyAudio()\n",
        "        audio_stream = p.open(format=audio_format,\n",
        "                              channels=channels,\n",
        "                              rate=rate,\n",
        "                              input=True,\n",
        "                              frames_per_buffer=chunk)\n",
        "\n",
        "        audio_frames = []\n",
        "\n",
        "        while self.open:  # Check self.open in the loop condition\n",
        "            if not self.open:\n",
        "                break  # Exit loop if self.open is False\n",
        "\n",
        "            audio_data = audio_stream.read(chunk)\n",
        "            audio_frames.append(audio_data)\n",
        "\n",
        "        audio_stream.stop_stream()\n",
        "        audio_stream.close()\n",
        "\n",
        "        wf = wave.open('output_audio.wav', 'wb')\n",
        "        wf.setnchannels(channels)\n",
        "        wf.setsampwidth(p.get_sample_size(audio_format))\n",
        "        wf.setframerate(rate)\n",
        "        wf.writeframes(b''.join(audio_frames))\n",
        "        wf.close()\n",
        "\n",
        "    def start_recording(self):\n",
        "        video_thread = threading.Thread(target=self.record_video)\n",
        "        audio_thread = threading.Thread(target=self.record_audio)\n",
        "\n",
        "        video_thread.start()\n",
        "        audio_thread.start()\n",
        "\n",
        "    def stop_recording(self):\n",
        "        self.open = False\n",
        "\n",
        "if __name__ == '__main__':\n",
        "    recorder = VideoRecorder()\n",
        "    recorder.start_recording()\n",
        "\n",
        "    input(\"Press Enter to stop recording...\")\n",
        "    recorder.stop_recording()\n",
        "    print(\"Recording stopped. Video saved as 'output_video.avi' and audio as 'output_audio.wav'\")\n"
      ],
      "metadata": {
        "colab": {
          "base_uri": "https://localhost:8080/"
        },
        "id": "qcZlA7sfrwcJ",
        "outputId": "890b1222-9c3d-46f4-afb4-220f330ea3fc"
      },
      "execution_count": 2,
      "outputs": [
        {
          "output_type": "stream",
          "name": "stderr",
          "text": [
            "Exception in thread Thread-13 (record_audio):\n",
            "Traceback (most recent call last):\n",
            "  File \"/usr/lib/python3.10/threading.py\", line 1016, in _bootstrap_inner\n",
            "    self.run()\n",
            "  File \"/usr/lib/python3.10/threading.py\", line 953, in run\n",
            "    self._target(*self._args, **self._kwargs)\n",
            "  File \"<ipython-input-2-529634295594>\", line 33, in record_audio\n",
            "  File \"/usr/local/lib/python3.10/dist-packages/pyaudio/__init__.py\", line 639, in open\n",
            "    stream = PyAudio.Stream(self, *args, **kwargs)\n",
            "  File \"/usr/local/lib/python3.10/dist-packages/pyaudio/__init__.py\", line 441, in __init__\n",
            "    self._stream = pa.open(**arguments)\n",
            "OSError: [Errno -9996] Invalid input device (no default output device)\n"
          ]
        },
        {
          "output_type": "stream",
          "name": "stdout",
          "text": [
            "Press Enter to stop recording...\n",
            "Recording stopped. Video saved as 'output_video.avi' and audio as 'output_audio.wav'\n"
          ]
        }
      ]
    },
    {
      "cell_type": "code",
      "source": [
        "# import cv2\n",
        "# import numpy as np\n",
        "# import pyaudio\n",
        "# import wave\n",
        "# import threading\n",
        "# import time\n",
        "# import speech_recognition as sr\n",
        "\n",
        "# # Global variables\n",
        "# video_writer = None\n",
        "# output_video_file = 'output_video.mp4'\n",
        "# output_audio_file = 'output_audio.wav'\n",
        "# start_time = None\n",
        "# frame_interval = 1 / 30  # Interval between frames (30 frames per second)\n",
        "# count = 0\n",
        "# is_recording = False\n",
        "\n",
        "# # Initialize face detector\n",
        "# face_cascade = cv2.CascadeClassifier(cv2.data.haarcascades + 'haarcascade_frontalface_default.xml')\n",
        "\n",
        "# # Audio recording settings\n",
        "# audio_format = pyaudio.paInt16\n",
        "# channels = 1\n",
        "# rate = 44100\n",
        "# chunk = 1024\n",
        "# audio_stream = None\n",
        "# audio_frames = []\n",
        "\n",
        "# # Speech recognizer\n",
        "# recognizer = sr.Recognizer()\n",
        "\n",
        "# def start_recording():\n",
        "#     global video_writer, audio_stream, audio_frames, is_recording, start_time, count\n",
        "\n",
        "#     # Initialize video capture\n",
        "#     cap = cv2.VideoCapture(0)\n",
        "#     if not cap.isOpened():\n",
        "#         print(\"Error: Could not open video capture device.\")\n",
        "#         return None\n",
        "\n",
        "#     print(\"Video capture device opened successfully.\")\n",
        "#     video_writer = cv2.VideoWriter(output_video_file, cv2.VideoWriter_fourcc(*'mp4v'), 30, (640, 480))\n",
        "\n",
        "#     # Initialize audio recording\n",
        "#     p = pyaudio.PyAudio()\n",
        "#     audio_stream = p.open(format=audio_format,\n",
        "#                           channels=channels,\n",
        "#                           rate=rate,\n",
        "#                           input=True,\n",
        "#                           frames_per_buffer=chunk)\n",
        "#     audio_frames = []\n",
        "#     is_recording = True\n",
        "#     start_time = time.time()\n",
        "#     count = 0\n",
        "\n",
        "#     return cap\n",
        "\n",
        "# def stop_recording():\n",
        "#     global video_writer, audio_stream, audio_frames, is_recording\n",
        "#     is_recording = False\n",
        "\n",
        "#     if video_writer is not None:\n",
        "#         video_writer.release()\n",
        "#         video_writer = None\n",
        "\n",
        "#     if audio_stream is not None:\n",
        "#         audio_stream.stop_stream()\n",
        "#         audio_stream.close()\n",
        "#         audio_stream = None\n",
        "\n",
        "#         # Save audio file\n",
        "#         p = pyaudio.PyAudio()\n",
        "#         wf = wave.open(output_audio_file, 'wb')\n",
        "#         wf.setnchannels(channels)\n",
        "#         wf.setsampwidth(p.get_sample_size(audio_format))\n",
        "#         wf.setframerate(rate)\n",
        "#         wf.writeframes(b''.join(audio_frames))\n",
        "#         wf.close()\n",
        "\n",
        "# def process_frame(cap):\n",
        "#     global audio_stream, audio_frames, count\n",
        "\n",
        "#     while is_recording:\n",
        "#         ret, img = cap.read()\n",
        "#         if not ret:\n",
        "#             print(\"Failed to get video frame\")\n",
        "#             break\n",
        "\n",
        "#         bbox_array = np.zeros([480, 640, 4], dtype=np.uint8)\n",
        "\n",
        "#         gray = cv2.cvtColor(img, cv2.COLOR_BGR2GRAY)\n",
        "\n",
        "#         faces = face_cascade.detectMultiScale(gray)\n",
        "#         for (x, y, w, h) in faces:\n",
        "#             bbox_array = cv2.rectangle(bbox_array, (x, y), (x + w, y + h), (255, 0, 0), 2)\n",
        "\n",
        "#         bbox_array[:, :, 3] = (bbox_array.max(axis=2) > 0).astype(int) * 255\n",
        "\n",
        "#         if video_writer is not None:\n",
        "#             elapsed_time = time.time() - start_time\n",
        "#             frame_timestamp = int(elapsed_time / frame_interval)\n",
        "\n",
        "#             timer_text = time.strftime(\"%Y-%m-%d %H:%M:%S\", time.localtime())\n",
        "#             cv2.putText(img, timer_text, (10, 30), cv2.FONT_HERSHEY_SIMPLEX, 1, (255, 255, 255), 2)\n",
        "\n",
        "#             video_writer.write(img)\n",
        "\n",
        "#             while count < frame_timestamp:\n",
        "#                 count += 1\n",
        "\n",
        "#         if audio_stream is not None:\n",
        "#             audio_data = audio_stream.read(chunk)\n",
        "#             audio_frames.append(audio_data)\n",
        "\n",
        "# def speech_recognition():\n",
        "#     global is_recording\n",
        "\n",
        "#     while is_recording:\n",
        "#         with sr.Microphone() as source:\n",
        "#             print(\"Listening...\")\n",
        "#             audio = recognizer.listen(source)\n",
        "#             try:\n",
        "#                 text = recognizer.recognize_google(audio)\n",
        "#                 print(f\"Recognized speech: {text}\")\n",
        "#             except sr.UnknownValueError:\n",
        "#                 print(\"Google Speech Recognition could not understand audio\")\n",
        "#             except sr.RequestError as e:\n",
        "#                 print(f\"Could not request results from Google Speech Recognition service; {e}\")\n",
        "\n",
        "# def main():\n",
        "#     cap = start_recording()\n",
        "#     if cap is None:\n",
        "#         return\n",
        "\n",
        "#     video_thread = threading.Thread(target=process_frame, args=(cap,))\n",
        "#     audio_thread = threading.Thread(target=speech_recognition)\n",
        "\n",
        "#     video_thread.start()\n",
        "#     audio_thread.start()\n",
        "\n",
        "#     input(\"Press Enter to stop recording...\")\n",
        "\n",
        "#     stop_recording()\n",
        "\n",
        "#     cap.release()\n",
        "\n",
        "#     video_thread.join()\n",
        "#     audio_thread.join()\n",
        "\n",
        "#     print(\"Recording stopped and saved to\", output_video_file)\n",
        "\n",
        "# if __name__ == '__main__':\n",
        "#     main()\n"
      ],
      "metadata": {
        "colab": {
          "base_uri": "https://localhost:8080/"
        },
        "id": "UA1pYI_H2u7N",
        "outputId": "2f96e68f-ec1a-4b55-a231-7dd7855fb09f"
      },
      "execution_count": 50,
      "outputs": [
        {
          "output_type": "stream",
          "name": "stdout",
          "text": [
            "Error: Could not open video capture device.\n"
          ]
        }
      ]
    },
    {
      "cell_type": "code",
      "source": [],
      "metadata": {
        "id": "JLwrDRkKea1S"
      },
      "execution_count": 48,
      "outputs": []
    }
  ]
}